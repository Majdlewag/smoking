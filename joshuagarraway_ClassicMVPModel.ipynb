{
 "cells": [
  {
   "cell_type": "markdown",
   "id": "3b5ecde2",
   "metadata": {},
   "source": [
    "# Data being used before loading in the actual preprocessed data"
   ]
  },
  {
   "cell_type": "code",
   "execution_count": null,
   "id": "da3ff93d",
   "metadata": {},
   "outputs": [],
   "source": [
    "# Load the dataset\n",
    "data = pd.read_csv('your_dataset.csv')  # Replace 'your_dataset.csv' with the path to your dataset file\n",
    "\n",
    "# Drop the ID column as it doesn't provide any useful information for prediction\n",
    "data = data.drop('ID', axis=1)\n",
    "\n",
    "# Split the data into features (X) and target (y)\n",
    "X = data.drop('smoking', axis=1)\n",
    "y = data['smoking']"
   ]
  },
  {
   "cell_type": "markdown",
   "id": "036ff3e4",
   "metadata": {},
   "source": [
    "# MVP Logistic Regression Model"
   ]
  },
  {
   "cell_type": "code",
   "execution_count": null,
   "id": "26d47e59",
   "metadata": {},
   "outputs": [],
   "source": [
    "from sklearn.model_selection import train_test_split\n",
    "from sklearn.dummy import DummyClassifier\n",
    "from sklearn.linear_model import LogisticRegression\n",
    "\n",
    "# Split the data into training and testing sets\n",
    "X_train, X_test, y_train, y_test = train_test_split(X, y, test_size=0.2, random_state=42)\n",
    "\n",
    "# Baseline model using DummyClassifier with strategy=\"most_frequent\"\n",
    "baseline_log_model = DummyClassifier(strategy=\"most_frequent\") \n",
    "baseline_log_model.fit(X_train, y_train)\n",
    "baseline_log_model.score(X_test, y_test)"
   ]
  },
  {
   "cell_type": "code",
   "execution_count": null,
   "id": "a358084e",
   "metadata": {},
   "outputs": [],
   "source": [
    "# Instantiate and fit the log model\n",
    "log_model = LogisticRegression().fit(X_train, y_train)\n",
    "\n",
    "# Score the log model\n",
    "log_model.score(X_test, y_test)"
   ]
  },
  {
   "cell_type": "markdown",
   "id": "f7127130",
   "metadata": {},
   "source": [
    "# MVP Decision Tree Model"
   ]
  },
  {
   "cell_type": "code",
   "execution_count": null,
   "id": "c6efbc43",
   "metadata": {},
   "outputs": [],
   "source": [
    "from sklearn.model_selection import train_test_split\n",
    "from sklearn.dummy import DummyClassifier\n",
    "from sklearn.tree import DecisionTreeClassifier\n",
    "\n",
    "# Split the data into training and testing sets\n",
    "X_train, X_test, y_train, y_test = train_test_split(X, y, test_size=0.2, random_state=42)\n",
    "\n",
    "# Baseline model using DummyClassifier with strategy=\"most_frequent\"\n",
    "baseline_tree_model = DummyClassifier(strategy=\"most_frequent\") \n",
    "baseline_tree_model.fit(X_train, y_train)\n",
    "baseline_tree_model.score(X_test, y_test)"
   ]
  },
  {
   "cell_type": "code",
   "execution_count": null,
   "id": "be457ccb",
   "metadata": {},
   "outputs": [],
   "source": [
    "# Instantiate and fit the tree model\n",
    "tree_model = DecisionTreeClassifier().fit(X_train, y_train)\n",
    "\n",
    "# Score the tree model\n",
    "tree_model.score(X_test, y_test)"
   ]
  }
 ],
 "metadata": {
  "kernelspec": {
   "display_name": "Python 3 (ipykernel)",
   "language": "python",
   "name": "python3"
  },
  "language_info": {
   "codemirror_mode": {
    "name": "ipython",
    "version": 3
   },
   "file_extension": ".py",
   "mimetype": "text/x-python",
   "name": "python",
   "nbconvert_exporter": "python",
   "pygments_lexer": "ipython3",
   "version": "3.11.5"
  },
  "toc": {
   "base_numbering": 1,
   "nav_menu": {},
   "number_sections": true,
   "sideBar": true,
   "skip_h1_title": false,
   "title_cell": "Table of Contents",
   "title_sidebar": "Contents",
   "toc_cell": false,
   "toc_position": {},
   "toc_section_display": true,
   "toc_window_display": false
  },
  "varInspector": {
   "cols": {
    "lenName": 16,
    "lenType": 16,
    "lenVar": 40
   },
   "kernels_config": {
    "python": {
     "delete_cmd_postfix": "",
     "delete_cmd_prefix": "del ",
     "library": "var_list.py",
     "varRefreshCmd": "print(var_dic_list())"
    },
    "r": {
     "delete_cmd_postfix": ") ",
     "delete_cmd_prefix": "rm(",
     "library": "var_list.r",
     "varRefreshCmd": "cat(var_dic_list()) "
    }
   },
   "types_to_exclude": [
    "module",
    "function",
    "builtin_function_or_method",
    "instance",
    "_Feature"
   ],
   "window_display": false
  }
 },
 "nbformat": 4,
 "nbformat_minor": 5
}
